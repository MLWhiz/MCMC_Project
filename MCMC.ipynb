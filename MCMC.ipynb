{
 "metadata": {
  "name": "",
  "signature": "sha256:0a5240eff32ca7f18ed11aa328dcf4523a3cf685b99b3d2b8b3bcbf45df04a36"
 },
 "nbformat": 3,
 "nbformat_minor": 0,
 "worksheets": [
  {
   "cells": [
    {
     "cell_type": "markdown",
     "metadata": {},
     "source": [
      "#MCMC Examples"
     ]
    },
    {
     "cell_type": "markdown",
     "metadata": {},
     "source": [
      "Last time I wrote an article on MCMC and how they could be useful. We learned how MCMC chains could be used to simulate from a random variable whose distribution is partially known i.e. we don't know the normalizing constant.\n",
      "\n",
      "So MCMC Methods may sound interesting to some (for these what follows is a treat) and for those who don't really appreciate MCMC till now, I hope I will be able to pique your interest by the end of this blog post. \n",
      "\n",
      "So here goes. This time we will cover some applications of MCMC in various areas of Computer Science using Python. If you feel the problems difficult to follow with, I would advice you to go back and read the [previous post](http://mlwhiz.com/blog/2015/08/19/MCMC_Algorithms_Beta_Distribution/), which tries to explain MCMC Methods. We Will try to solve the following two problems:\n",
      "\n",
      "1. **Break the Code** - This problem has got somewhat of a great pedigree as this method was suggested by Persi Diaconis- The Mathemagician. So Someone comes to you with the below text. This text looks like gibberish but this is a code, Could you decrypyt it?\n",
      "        XZ STAVRK HXVR MYAZ OAKZM JKSSO SO MYR OKRR XDP JKSJRK XBMASD SO YAZ TWDHZ  MYR JXMBYNSKF BSVRKTRM NYABY NXZ BXKRTRZZTQ OTWDH SVRK MYR AKSD ERPZMRXP  KWZMTRP  MYR JXTR OXBR SO X QSWDH NSIXD NXZ KXAZRP ORRETQ OKSI MYR JATTSN  XDP X OXADM VSABR AIJRKORBMTQ XKMABWTXMRP MYR NSKPZ  TRM IR ZRR MYR BYATP  XDP PAR  MYR ZWKHRSD YXP ERRD ZAMMADH NAMY YAZ OXBR MWKDRP MSNXKPZ MYR OAKR  HAVADH MYR JXTIZ SO YAZ YXDPZ X NXKI XDP X KWE XTMRKDXMRTQ  XZ MYR QSWDH NSIXD ZJSFR  YR KSZR  XDP XPVXDBADH MS MYR ERP Z YRXP  ZXAP  NAMY ISKR FADPDRZZ MYXD IAHYM YXVR ERRD RGJRBMRP SO YAI\n",
      "\n",
      "2. **The Knapsack Problem** - This problem comes from Introduction to probability by Joseph Blitzstein. You should check out his courses (STAT110 And CS109) as they are awesome. Also as it turns out Diaconis was the advisor of Joseph. So you have Bilbo a Thief who goes to Smaug's Lair. He finds M treasures. Each Ring has some Weight and some Gold value. But Bilbo cannot really take all of that. He could only carry a certain Maximum Weight. But being a smart hobbit, he wants to Maximize the value of the treasures he takes. Given the values for weights and value of the treasures and the maximum weight that Bilbo could carry, could you find a good solution? This is known as the Knapsack Problem in Computer Science."
     ]
    },
    {
     "cell_type": "markdown",
     "metadata": {},
     "source": [
      "##Break the Code\n",
      "\n",
      "So we look at the data and form a hypothesis that the data has been scrambled using a Substitution Cipher. We don't know the encryption key, and we would like to know the Decryption Key so that we can decrypt the data and read the code.\n",
      "\n",
      "To create this example, this data has actually been taken from Oliver Twist. We scrambled the data using a random encryption key, which we forgot after encrypting and we would like to decrypt this encrypted text using MCMC Chains. The real decryption key actually is \"ICZNBKXGMPRQTWFDYEOLJVUAHS\""
     ]
    },
    {
     "cell_type": "code",
     "collapsed": false,
     "input": [
      "plain_text = \"As Oliver gave this first proof of the free and proper action of his lungs, \\\n",
      "the patchwork coverlet which was carelessly flung over the iron bedstead, rustled; \\\n",
      "the pale face of a young woman was raised feebly from the pillow; and a faint voice imperfectly \\\n",
      "articulated the words, Let me see the child, and die. \\\n",
      "The surgeon had been sitting with his face turned towards the fire: giving the palms of his hands a warm \\\n",
      "and a rub alternately. As the young woman spoke, he rose, and advancing to the bed's head, said, with more kindness \\\n",
      "than might have been expected of him: \"\n",
      "\n",
      "encryption_key = \"XEBPROHYAUFTIDSJLKZMWVNGQC\"\n",
      "cipher_text = apply_cipher_on_text(plain_text,encryption_key)\n",
      "print cipher_text"
     ],
     "language": "python",
     "metadata": {},
     "outputs": [
      {
       "output_type": "stream",
       "stream": "stdout",
       "text": [
        "XZ STAVRK HXVR MYAZ OAKZM JKSSO SO MYR OKRR XDP JKSJRK XBMASD SO YAZ TWDHZ  MYR JXMBYNSKF BSVRKTRM NYABY NXZ BXKRTRZZTQ OTWDH SVRK MYR AKSD ERPZMRXP  KWZMTRP  MYR JXTR OXBR SO X QSWDH NSIXD NXZ KXAZRP ORRETQ OKSI MYR JATTSN  XDP X OXADM VSABR AIJRKORBMTQ XKMABWTXMRP MYR NSKPZ  TRM IR ZRR MYR BYATP  XDP PAR  MYR ZWKHRSD YXP ERRD ZAMMADH NAMY YAZ OXBR MWKDRP MSNXKPZ MYR OAKR  HAVADH MYR JXTIZ SO YAZ YXDPZ X NXKI XDP X KWE XTMRKDXMRTQ  XZ MYR QSWDH NSIXD ZJSFR  YR KSZR  XDP XPVXDBADH MS MYR ERP Z YRXP  ZXAP  NAMY ISKR FADPDRZZ MYXD IAHYM YXVR ERRD RGJRBMRP SO YAI  \n"
       ]
      }
     ],
     "prompt_number": 201
    },
    {
     "cell_type": "markdown",
     "metadata": {},
     "source": [
      "So lets think about this problem for a little bit. The decryption key could be any 26 letter string with all alphabets appearing exactly once. How many string permutations are there like that? That number would come out to be $26! \\approx 10^{26}$ permutations. That is a pretty large number. If we go for using a brute force approach we are screwed. \n",
      "So what could we do? MCMC Chains come to rescue. \n",
      "\n",
      "We will devise a Chain whose states theoritically could be any of these permutations. Then we will:\n",
      "1. Start by picking up a random current state. \n",
      "2. Create a proposal for a new state by swapping two random letters in the current state.\n",
      "3. Use a Scoring Function which calculates the score of the current state $Score_C$ and the proposed State $Score_P$.\n",
      "4. If the score of the proposed state is more than current state, Move to Proposed State.\n",
      "5. Else flip a coin which has a probability of Heads $Score_P/Score_C$. If it comes heads move to proposed State.\n",
      "6. Repeat from 2nd State.\n",
      "\n",
      "If we get lucky we may reach a steady state where the chain has the stationary distribution of the needed states and the state that the chain is at could be used as a solution."
     ]
    },
    {
     "cell_type": "markdown",
     "metadata": {},
     "source": [
      "So the Question is what is the scoring function that we will want to use. We want to use a scoring function for each state(Decryption key) which assigns a positive score to each decryption key. This score intuitively should be more if the encrypted text looks more like actual english if decrypted using this decryption key.\n",
      "\n",
      "So how can we quantify such a function. We will check a long text and calculate some statistics. See how many times one alphabet comes after another in a legitimate long text like War and Peace. For example we want to find out how many times does 'BA' appears in the text or how many times 'TH' occurs in the text.\n",
      "\n",
      "For each pair of characters $\\beta_1$ and $\\beta_2$ (e.g. $\\beta_1$ = T and $\\beta_2$ =H), we let $R(\\beta_1,\\beta_2)$ record the number of times that specific pair(e.g. \"TH\") appears consecutively in the reference text.\n",
      "\n",
      "Similarly, for a putative decryption key x, we let $F_x(\\beta_1,\\beta_2)$ record the number of times that\n",
      "pair appears when the cipher text is decrypted using the decryption key x.\n",
      "\n",
      "We then Score a particular decryption key x using:\n",
      "\n",
      "$$Score(x) = \\prod R(\\beta_1,\\beta_2)^{F_x(\\beta_1,\\beta_2)}$$\n",
      "    \n",
      "\n",
      "This function can be thought of as multiplying, for each consecutive pair of letters in the decrypted\n",
      "text, the number of times that pair occurred in the reference text.  Intuitively, the score function\n",
      "is higher when the pair frequencies in the decrypted text most closely match those of the reference\n",
      "text,  and  the  decryption  key  is  thus  most  likely  to  be  correct.\n",
      "\n",
      "To make life easier with calculations we will calculate $log(Score(x))$\n",
      "\n",
      "So lets start working through the problem step by step."
     ]
    },
    {
     "cell_type": "code",
     "collapsed": false,
     "input": [
      "# AIM: To Decrypt a text using MCMC approach. i.e. find decryption key which we will call cipher from now on.\n",
      "import string\n",
      "import math\n",
      "import random\n",
      "\n",
      "# This function takes as input a decryption key and creates a dict for key where each letter in the decryption key\n",
      "# maps to a alphabet For example if the decryption key is \"DGHJKL....\" this function will create a dict like {D:A,G:B,H:C....} \n",
      "def create_cipher_dict(cipher):\n",
      "    cipher_dict = {}\n",
      "    alphabet_list = list(string.ascii_uppercase)\n",
      "    for i in range(len(cipher)):\n",
      "        cipher_dict[alphabet_list[i]] = cipher[i]\n",
      "    return cipher_dict\n",
      "\n",
      "# This function takes a text and applies the cipher/key on the text and returns text.\n",
      "def apply_cipher_on_text(text,cipher):\n",
      "    cipher_dict = create_cipher_dict(cipher) \n",
      "    text = list(text)\n",
      "    newtext = \"\"\n",
      "    for elem in text:\n",
      "        if elem.upper() in cipher_dict:\n",
      "            newtext+=cipher_dict[elem.upper()]\n",
      "        else:\n",
      "            newtext+=\" \"\n",
      "    return newtext\n",
      "\n",
      "# This function takes as input a path to a long text and creates scoring_params dict which contains the \n",
      "# number of time each pair of alphabet appears together\n",
      "# Ex. {'AB':234,'TH':2343,'CD':23 ..}\n",
      "def create_scoring_params_dict(longtext_path):\n",
      "    scoring_params = {}\n",
      "    alphabet_list = list(string.ascii_uppercase)\n",
      "    with open(longtext_path) as fp:\n",
      "        for line in fp:\n",
      "            data = list(line.strip())\n",
      "            for i in range(len(data)-1):\n",
      "                alpha_i = data[i].upper()\n",
      "                alpha_j = data[i+1].upper()\n",
      "                if alpha_i not in alphabet_list and alpha_i != \" \":\n",
      "                    alpha_i = \" \"\n",
      "                if alpha_j not in alphabet_list and alpha_j != \" \":\n",
      "                    alpha_j = \" \"\n",
      "                key = alpha_i+alpha_j\n",
      "                if key in scoring_params:\n",
      "                    scoring_params[key]+=1\n",
      "                else:\n",
      "                    scoring_params[key]=1\n",
      "    return scoring_params\n",
      "\n",
      "# This function takes as input a text and creates scoring_params dict which contains the \n",
      "# number of time each pair of alphabet appears together\n",
      "# Ex. {'AB':234,'TH':2343,'CD':23 ..}\n",
      "\n",
      "def score_params_on_cipher(text):\n",
      "    scoring_params = {}\n",
      "    alphabet_list = list(string.ascii_uppercase)\n",
      "    data = list(text.strip())\n",
      "    for i in range(len(data)-1):\n",
      "        alpha_i =data[i].upper()\n",
      "        alpha_j = data[i+1].upper()\n",
      "        if alpha_i not in alphabet_list and alpha_i != \" \":\n",
      "            alpha_i = \" \"\n",
      "        if alpha_j not in alphabet_list and alpha_j != \" \":\n",
      "            alpha_j = \" \"\n",
      "        key = alpha_i+alpha_j\n",
      "        if key in scoring_params:\n",
      "            scoring_params[key]+=1\n",
      "        else:\n",
      "            scoring_params[key]=1\n",
      "    return scoring_params\n",
      "\n",
      "# This function takes the text to be decrypted and a cipher to score the cipher.\n",
      "# This function returns the log(score) metric\n",
      "\n",
      "def get_cipher_score(text,cipher,scoring_params):\n",
      "    cipher_dict = create_cipher_dict(cipher)\n",
      "    decrypted_text = apply_cipher_on_text(text,cipher)\n",
      "    scored_f = score_params_on_cipher(decrypted_text)\n",
      "    cipher_score = 0\n",
      "    for k,v in scored_f.iteritems():\n",
      "        if k in scoring_params:\n",
      "            cipher_score += v*math.log(scoring_params[k])\n",
      "    return cipher_score"
     ],
     "language": "python",
     "metadata": {},
     "outputs": [],
     "prompt_number": 202
    },
    {
     "cell_type": "code",
     "collapsed": false,
     "input": [
      "# Generate a proposal cipher by swapping letters at two random location\n",
      "def generate_cipher(cipher):\n",
      "    pos1 = random.randint(0, len(list(cipher))-1)\n",
      "    pos2 = random.randint(0, len(list(cipher))-1)\n",
      "    if pos1 == pos2:\n",
      "        return generate_cipher(cipher)\n",
      "    else:\n",
      "        cipher = list(cipher)\n",
      "        pos1_alpha = cipher[pos1]\n",
      "        pos2_alpha = cipher[pos2]\n",
      "        cipher[pos1] = pos2_alpha\n",
      "        cipher[pos2] = pos1_alpha\n",
      "        return \"\".join(cipher)\n",
      "\n",
      "# Toss a random coin with robability of head p. If coin comes head return true else false.\n",
      "def random_coin(p):\n",
      "    unif = random.uniform(0,1)\n",
      "    if unif>=p:\n",
      "        return False\n",
      "    else:\n",
      "        return True"
     ],
     "language": "python",
     "metadata": {},
     "outputs": [],
     "prompt_number": 203
    },
    {
     "cell_type": "code",
     "collapsed": false,
     "input": [
      "# Takes as input a text to decrypt and runs a MCMC algorithm for n_iter. Returns the state having maximum score and also\n",
      "# the last few states \n",
      "def MCMC_decrypt(n_iter,cipher_text,scoring_params):\n",
      "    current_cipher = string.ascii_uppercase # Generate a random cipher to start\n",
      "    state_keeper = set()\n",
      "    best_state = ''\n",
      "    score = 0\n",
      "    for i in range(n_iter):\n",
      "        state_keeper.add(current_cipher)\n",
      "        proposed_cipher = generate_cipher(current_cipher)\n",
      "        score_current_cipher = get_cipher_score(cipher_text,current_cipher,scoring_params)\n",
      "        score_proposed_cipher = get_cipher_score(cipher_text,proposed_cipher,scoring_params)\n",
      "        acceptance_probability = min(1,math.exp(score_proposed_cipher-score_current_cipher))\n",
      "        if score_current_cipher>score:\n",
      "            best_state = current_cipher\n",
      "        if random_coin(acceptance_probability):\n",
      "            current_cipher = proposed_cipher\n",
      "        if i%500==0:\n",
      "            print \"iter\",i,\":\",apply_cipher_on_text(cipher_text,current_cipher)[0:99]\n",
      "    return state_keeper,best_state"
     ],
     "language": "python",
     "metadata": {},
     "outputs": [],
     "prompt_number": 204
    },
    {
     "cell_type": "code",
     "collapsed": false,
     "input": [
      "## Run the Main Program:\n",
      "\n",
      "scoring_params = create_scoring_params_dict('war_and_peace.txt')\n",
      "\n",
      "plain_text = \"As Oliver gave this first proof of the free and proper action of his lungs, \\\n",
      "the patchwork coverlet which was carelessly flung over the iron bedstead, rustled; \\\n",
      "the pale face of a young woman was raised feebly from the pillow; and a faint voice imperfectly \\\n",
      "articulated the words, Let me see the child, and die. \\\n",
      "The surgeon had been sitting with his face turned towards the fire: giving the palms of his hands a warm \\\n",
      "and a rub alternately. As the young woman spoke, he rose, and advancing to the bed's head, said, with more kindness \\\n",
      "than might have been expected of him: \"\n",
      "\n",
      "encryption_key = \"XEBPROHYAUFTIDSJLKZMWVNGQC\"\n",
      "cipher_text = apply_cipher_on_text(plain_text,encryption_key)\n",
      "decryption_key = \"ICZNBKXGMPRQTWFDYEOLJVUAHS\"\n",
      "\n",
      "print\"Text To Decode:\", cipher_text\n",
      "print \"\\n\"\n",
      "states,best_state = MCMC_decrypt(10000,cipher_text,scoring_params)\n",
      "print \"\\n\"\n",
      "print \"Decoded Text:\",apply_cipher_on_text(cipher_text,best_state)\n",
      "print \"\\n\"\n",
      "print \"MCMC KEY FOUND:\",best_state\n",
      "print \"ACTUAL DECRYPTION KEY:\",decryption_key"
     ],
     "language": "python",
     "metadata": {},
     "outputs": [
      {
       "output_type": "stream",
       "stream": "stdout",
       "text": [
        "Text To Decode: XZ STAVRK HXVR MYAZ OAKZM JKSSO SO MYR OKRR XDP JKSJRK XBMASD SO YAZ TWDHZ  MYR JXMBYNSKF BSVRKTRM NYABY NXZ BXKRTRZZTQ OTWDH SVRK MYR AKSD ERPZMRXP  KWZMTRP  MYR JXTR OXBR SO X QSWDH NSIXD NXZ KXAZRP ORRETQ OKSI MYR JATTSN  XDP X OXADM VSABR AIJRKORBMTQ XKMABWTXMRP MYR NSKPZ  TRM IR ZRR MYR BYATP  XDP PAR  MYR ZWKHRSD YXP ERRD ZAMMADH NAMY YAZ OXBR MWKDRP MSNXKPZ MYR OAKR  HAVADH MYR JXTIZ SO YAZ YXDPZ X NXKI XDP X KWE XTMRKDXMRTQ  XZ MYR QSWDH NSIXD ZJSFR  YR KSZR  XDP XPVXDBADH MS MYR ERP Z YRXP  ZXAP  NAMY ISKR FADPDRZZ MYXD IAHYM YXVR ERRD RGJRBMRP SO YAI  \n",
        "\n",
        "\n",
        "iter 0 : XZ STAVRK HXVR MYAZ OAKZM JKSSO SO MYR OKRR XDP JKSJRK XBMASD SO YAZ TWDHZ  MYR JXMBYNSKF BSVRKTRM \n",
        "iter"
       ]
      },
      {
       "output_type": "stream",
       "stream": "stdout",
       "text": [
        " 500 : AR OCUVEN YAVE TSUR FUNRT GNOOF OF TSE FNEE ALD GNOGEN AITUOL OF SUR CMLYR  TSE GATISHONK IOVENCET \n",
        "iter"
       ]
      },
      {
       "output_type": "stream",
       "stream": "stdout",
       "text": [
        " 1000 : AS ORUMEN YAME THUS WUNST INOOW OW THE WNEE ALD INOIEN ACTUOL OW HUS RKLYS  THE IATCHPONV COMENRET \n",
        "iter"
       ]
      },
      {
       "output_type": "stream",
       "stream": "stdout",
       "text": [
        " 1500 : AS OLIMER GAME THIS WIRST VROOW OW THE WREE AND VROVER ACTION OW HIS LUNGS  THE VATCHPORK COMERLET \n",
        "iter"
       ]
      },
      {
       "output_type": "stream",
       "stream": "stdout",
       "text": [
        " 2000 : AS OLIVER GAVE THIS FIRST PROOF OF THE FREE AND PROPER ACTION OF HIS LUNGS  THE PATCHWORK COVERLET \n",
        "iter"
       ]
      },
      {
       "output_type": "stream",
       "stream": "stdout",
       "text": [
        " 2500 : AS OLIVER GAVE THIS FIRST PROOF OF THE FREE AND PROPER ACTION OF HIS LUNGS  THE PATCHWORK COVERLET \n",
        "iter"
       ]
      },
      {
       "output_type": "stream",
       "stream": "stdout",
       "text": [
        " 3000 : AS OLIVER GAVE THIS FIRST PROOF OF THE FREE AND PROPER ACTION OF HIS LUNGS  THE PATCHWORK COVERLET \n",
        "iter"
       ]
      },
      {
       "output_type": "stream",
       "stream": "stdout",
       "text": [
        " 3500 : AS OLIVER GAVE THIS FIRST PROOF OF THE FREE AND PROPER ACTION OF HIS LUNGS  THE PATCHWORK COVERLET \n",
        "iter"
       ]
      },
      {
       "output_type": "stream",
       "stream": "stdout",
       "text": [
        " 4000 : AS OLIVER GAVE THIS FIRST PROOF OF THE FREE AND PROPER ACTION OF HIS LUNGS  THE PATCHWORK COVERLET \n",
        "iter"
       ]
      },
      {
       "output_type": "stream",
       "stream": "stdout",
       "text": [
        " 4500 : AS OLIVER GAVE THIS FIRST PROOF OF THE FREE AND PROPER ACTION OF HIS LUNGS  THE PATCHWORK COVERLET \n",
        "iter"
       ]
      },
      {
       "output_type": "stream",
       "stream": "stdout",
       "text": [
        " 5000 : AS OLIVER GAVE THIS FIRST PROOF OF THE FREE AND PROPER ACTION OF HIS LUNGS  THE PATCHWORK COVERLET \n",
        "iter"
       ]
      },
      {
       "output_type": "stream",
       "stream": "stdout",
       "text": [
        " 5500 : AS OLIVER GAVE THIS FIRST PROOF OF THE FREE AND PROPER ACTION OF HIS LUNGS  THE PATCHWORK COVERLET \n",
        "iter"
       ]
      },
      {
       "output_type": "stream",
       "stream": "stdout",
       "text": [
        " 6000 : AS OLIVER GAVE THIS FIRST PROOF OF THE FREE AND PROPER ACTION OF HIS LUNGS  THE PATCHWORK COVERLET \n",
        "iter"
       ]
      },
      {
       "output_type": "stream",
       "stream": "stdout",
       "text": [
        " 6500 : AS OLIVER GAVE THIS FIRST PROOF OF THE FREE AND PROPER ACTION OF HIS LUNGS  THE PATCHWORK COVERLET \n",
        "iter"
       ]
      },
      {
       "output_type": "stream",
       "stream": "stdout",
       "text": [
        " 7000 : AS OLIVER GAVE THIS FIRST PROOF OF THE FREE AND PROPER ACTION OF HIS LUNGS  THE PATCHWORK COVERLET \n",
        "iter"
       ]
      },
      {
       "output_type": "stream",
       "stream": "stdout",
       "text": [
        " 7500 : AS OLIVER GAVE THIS FIRST PROOF OF THE FREE AND PROPER ACTION OF HIS LUNGS  THE PATCHWORK COVERLET \n",
        "iter"
       ]
      },
      {
       "output_type": "stream",
       "stream": "stdout",
       "text": [
        " 8000 : AS OLIVER GAVE THIS FIRST PROOF OF THE FREE AND PROPER ACTION OF HIS LUNGS  THE PATCHWORK COVERLET \n",
        "iter"
       ]
      },
      {
       "output_type": "stream",
       "stream": "stdout",
       "text": [
        " 8500 : AS OLIVER GAVE THIS FIRST PROOF OF THE FREE AND PROPER ACTION OF HIS LUNGS  THE PATCHWORK COVERLET \n",
        "iter"
       ]
      },
      {
       "output_type": "stream",
       "stream": "stdout",
       "text": [
        " 9000 : AS OLIVER GAVE THIS FIRST PROOF OF THE FREE AND PROPER ACTION OF HIS LUNGS  THE PATCHWORK COVERLET \n",
        "iter"
       ]
      },
      {
       "output_type": "stream",
       "stream": "stdout",
       "text": [
        " 9500 : AS OLIVER GAVE THIS FIRST PROOF OF THE FREE AND PROPER ACTION OF HIS LUNGS  THE PATCHWORK COVERLET \n",
        "\n"
       ]
      },
      {
       "output_type": "stream",
       "stream": "stdout",
       "text": [
        "\n",
        "Decoded Text: AS OLIVER GAVE THIS FIRST PROOF OF THE FREE AND PROPER ACTION OF HIS LUNGS  THE PATCHWORK COVERLET WHICH WAS CARELESSLY FLUNG OVER THE IRON BEDSTEAD  RUSTLED  THE PALE FACE OF A YOUNG WOMAN WAS RAISED FEEBLY FROM THE PILLOW  AND A FAINT VOICE IMPERFECTLY ARTICULATED THE WORDS  LET ME SEE THE CHILD  AND DIE  THE SURGEON HAD BEEN SITTING WITH HIS FACE TURNED TOWARDS THE FIRE  GIVING THE PALMS OF HIS HANDS A WARM AND A RUB ALTERNATELY  AS THE YOUNG WOMAN SPOKE  HE ROSE  AND ADVANCING TO THE BED S HEAD  SAID  WITH MORE KINDNESS THAN MIGHT HAVE BEEN EXPECTED OF HIM  \n",
        "\n",
        "\n",
        "MCMC KEY FOUND: ICJNBKXGMPRZTWFDYEOLQVUAHS\n",
        "ACTUAL DECRYPTION KEY: ICZNBKXGMPRQTWFDYEOLJVUAHS\n"
       ]
      }
     ],
     "prompt_number": 206
    },
    {
     "cell_type": "markdown",
     "metadata": {},
     "source": [
      "This chain converges around the 2000th iteration and we are able to unscramble the code. That's awesome!!!\n",
      "Now as you see the MCMC Key found is not exactly the encryption key. So the solution is not a deterministic one, but we can see that it does not actually decrease any of the value that the MCMC Methods provide. Now Lets Help Bilbo :)"
     ]
    },
    {
     "cell_type": "markdown",
     "metadata": {},
     "source": [
      "#The Knapsack Problem"
     ]
    },
    {
     "cell_type": "markdown",
     "metadata": {},
     "source": [
      "Restating, we have Bilbo a Thief who goes to Smaug's Lair. He finds M treasures. Each treasure has some Weight and some Gold value. But Bilbo cannot really take all of that. He could only carry a certain Maximum Weight. But being a smart hobbit, he wants to Maximize the value of the treasures he takes. Given the values for weights and value of the treasures and the maximum weight that Bilbo could carry, could you find a good solution?\n",
      "\n",
      "So in this problem we have an $1xM$ array of Weight Values W, Gold Values G and a value for the maximum weight $w_{MAX}$ that Bilbo can carry.\n",
      "We want to find out an $1xM$ array $X$ of 1's and 0's, which holds weather Bilbo Carries a particular treasure or not. \n",
      "This array needs to follow the constraint $WX^T < w_{MAX}$ and we want to maximize $GX^T$ for a particular state X.(Here the T means transpose)\n",
      "\n",
      "So lets first discuss as to how we will create a proposal from a previous state. \n",
      "1. Pick a random index from the state and toggle the index value. \n",
      "2. Check if we satisfy our constraint. If yes this state is the proposal state.\n",
      "3. Else pick up another random index and repeat.\n",
      "\n",
      "We also need to think about the Scoring Function. \n",
      "We need to give high values to states with high gold value. We will use:\n",
      "<br>\n",
      "\n",
      "$$Score(X)=e^{\\beta GX^T}$$\n",
      "\n",
      "We give exponentially more value to higher score. The Beta here is a +ve constant. But how to choose it? If $/beta$ is big we will give very high score to good solutions and the chain will not be able to try new solutions as it can get stuck in local optimas. If we give a small value the chain will not converge to very good solutions. So weuse an Optimization Technique called **Simulated Annealing** i.e. we will start with a small value of $\\beta$ and increase as no of iterations go up.\n",
      "That way the chain will explore in the starting stages and stay at the best solution in the later stages.\n",
      "\n",
      "So now we have everything we need to get started\n"
     ]
    },
    {
     "cell_type": "code",
     "collapsed": false,
     "input": [
      "import numpy as np\n",
      "\n",
      "W = [20,40,60,12,34,45,67,33,23,12,34,56,23,56]\n",
      "G = [120,420,610,112,341,435,657,363,273,812,534,356,223,516]\n",
      "W_max = 150\n",
      "\n",
      "# This function takes a state X , The gold vector G and a Beta Value and return the Log of score\n",
      "def score_state_log(X,G,Beta):\n",
      "    return Beta*np.dot(X,G)\n",
      "\n",
      "# This function takes as input a state X and the number of treasures M, The weight vector W and the maximum weight W_max\n",
      "# and returns a proposal state\n",
      "def create_proposal(X,W,W_max):\n",
      "    M = len(W)\n",
      "    random_index = random.randint(0,M-1)\n",
      "    #print random_index\n",
      "    proposal = list(X)\n",
      "    proposal[random_index] = 1 - proposal[random_index]  #Toggle\n",
      "    #print proposal\n",
      "    if np.dot(proposal,W)<=W_max:\n",
      "        return proposal\n",
      "    else:\n",
      "        return create_proposal(X,W,W_max)"
     ],
     "language": "python",
     "metadata": {},
     "outputs": [],
     "prompt_number": 207
    },
    {
     "cell_type": "code",
     "collapsed": false,
     "input": [
      "# Takes as input a text to decrypt and runs a MCMC algorithm for n_iter. Returns the state having maximum score and also\n",
      "# the last few states \n",
      "def MCMC_Golddigger(n_iter,W,G,W_max, Beta_start = 0.05, Beta_increments=.02):\n",
      "    M = len(W)\n",
      "    Beta = Beta_start\n",
      "    current_X = [0]*M # We start with all 0's\n",
      "    state_keeper = []\n",
      "    best_state = ''\n",
      "    score = 0\n",
      "    \n",
      "    for i in range(n_iter):\n",
      "        state_keeper.append(current_X)\n",
      "        proposed_X = create_proposal(current_X,W,W_max)\n",
      "\n",
      "        score_current_X = score_state_log(current_X,G,Beta)\n",
      "        score_proposed_X = score_state_log(proposed_X,G,Beta)\n",
      "        acceptance_probability = min(1,math.exp(score_proposed_X-score_current_X))\n",
      "        if score_current_X>score:\n",
      "            best_state = current_X\n",
      "        if random_coin(acceptance_probability):\n",
      "            current_X = proposed_X\n",
      "        if i%500==0:\n",
      "            Beta += Beta_increments \n",
      "        # You can use these below two lines to tune value of Beta\n",
      "        #if i%20==0:\n",
      "        #    print \"iter:\",i,\" |Beta=\",Beta,\" |Gold Value=\",np.dot(current_X,G)\n",
      "            \n",
      "    return state_keeper,best_state\n"
     ],
     "language": "python",
     "metadata": {},
     "outputs": [],
     "prompt_number": 208
    },
    {
     "cell_type": "code",
     "collapsed": false,
     "input": [
      "max_state_value =0 \n",
      "Solution_MCMC = [0]\n",
      "for i in range(10):\n",
      "    state_keeper,best_state = MCMC_Golddigger(50000,W,G,W_max,0.0005, .0005)\n",
      "    state_value=np.dot(best_state,G)\n",
      "    if state_value>max_state_value:\n",
      "        max_state_value = state_value\n",
      "        Solution_MCMC = best_state\n",
      "\n",
      "print \"MCMC Solution is :\" , str(Solution_MCMC) , \"with Gold Value:\", str(max_state_value)"
     ],
     "language": "python",
     "metadata": {},
     "outputs": [
      {
       "output_type": "stream",
       "stream": "stdout",
       "text": [
        "MCMC Solution is : [0, 0, 0, 1, 1, 0, 0, 1, 1, 1, 1, 0, 0, 0] with Gold Value: 2435\n"
       ]
      }
     ],
     "prompt_number": 198
    },
    {
     "cell_type": "markdown",
     "metadata": {},
     "source": [
      "Now I won't say that this is the best solution. The deterministic solution using DP will be the best for such use case but sometimes when the problems gets large, having such techniques at disposal becomes invaluable.\n",
      "\n",
      "##References and Sources:\n",
      "1. [Introduction to Probability Joseph K Blitzstein, Jessica Hwang](http://www.amazon.com/Introduction-Probability-Chapman-Statistical-Science-ebook/dp/B00MMOJ19I)\n",
      "2. [Wikipedia](https://en.wikipedia.org/wiki/)\n",
      "3. [The Markov Chain Monte Carlo Revolution, Persi Diaconis](http://statweb.stanford.edu/~cgates/PERSI/papers/MCMCRev.pdf)\n",
      "4. [Decrypting Classical Cipher Text Using Markov Chain Monte Carlo, Jian Chen and Jeffrey S. Rosenthal](http://www.utstat.toronto.edu/wordpress/WSFiles/technicalreports/1005.pdf)\n"
     ]
    }
   ],
   "metadata": {}
  }
 ]
}